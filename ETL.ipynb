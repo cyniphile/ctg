{
 "cells": [
  {
   "cell_type": "markdown",
   "metadata": {},
   "source": [
    "## Machine Larnin' Fetal Health\n",
    "https://github.com/fastai/fastpages#writing-blog-posts-with-jupyter\n",
    "\n",
    "https://docs.google.com/presentation/d/1De2w1N9WbW4Jo-vJ78iJ6APxHsPsjimzdONXDl8CbcA/edit#slide=id.g8b7806df25_0_15\n",
    "\n",
    "Cardiotocography (CTG) a technique widely used in pregnancy as a method of assessing fetal well‐being. CTG is a continuous recording of the fetal heart rate, fetal movements, and uterine contractions obtained via ultrasound transducers placed on the mother's abdomen. \n",
    "\n",
    "![](2021-11-29-16-51-27.png =200x)\n",
    "![](2021-11-29-16-49-48.png =200x)\n",
    "\n",
    "CTG machines write these three time-series of data onto a chart that doctors and nurses can use to classify the fetus into one of three classes: Normal, Suspect (needs attention), and Pathalogical (needs intervention).\n",
    "\n",
    "https://pubmed.ncbi.nlm.nih.gov/23362805/ The admission CTG: is there any evidence for still using the test?\n",
    "\n",
    "Obviously translating these squiggles into a decision to do a serious intervention requires a highly trained nurse or doctor, which aren't always available especially in poorer countries. [ref] Then again, research has shown that use of CTG can also lead to a high rate of unnecessary interventions (i.e. false positives.)\n",
    "\n",
    "Perhaps we can solve both problems at once with machine learning model? Turns out some labeled data is available on the good ole' UCI Machine Learning Repo. \n",
    "https://archive.ics.uci.edu/ml/datasets/Cardiotocography\n",
    "\n",
    "Let's download the excel file of the data:"
   ]
  },
  {
   "cell_type": "code",
   "execution_count": 132,
   "metadata": {},
   "outputs": [],
   "source": [
    "import requests\n",
    "import pandas as pd\n",
    "import seaborn as sns\n",
    "import matplotlib.pyplot as plt\n",
    "pd.set_option('display.max_columns', None)\n",
    "sns.set(rc={'figure.figsize': (15.7, 8.27)})"
   ]
  },
  {
   "cell_type": "code",
   "execution_count": 1,
   "metadata": {},
   "outputs": [],
   "source": [
    "data = requests.get(\"https://archive.ics.uci.edu/ml/machine-learning-databases/00193/CTG.xls\")\n",
    "filename = \"CTG.xls\"\n",
    "with open(filename, 'wb') as f:\n",
    "    f.write(data.content)"
   ]
  },
  {
   "cell_type": "code",
   "execution_count": 82,
   "metadata": {},
   "outputs": [
    {
     "data": {
      "text/html": [
       "<div>\n",
       "<style scoped>\n",
       "    .dataframe tbody tr th:only-of-type {\n",
       "        vertical-align: middle;\n",
       "    }\n",
       "\n",
       "    .dataframe tbody tr th {\n",
       "        vertical-align: top;\n",
       "    }\n",
       "\n",
       "    .dataframe thead th {\n",
       "        text-align: right;\n",
       "    }\n",
       "</style>\n",
       "<table border=\"1\" class=\"dataframe\">\n",
       "  <thead>\n",
       "    <tr style=\"text-align: right;\">\n",
       "      <th></th>\n",
       "      <th>FileName</th>\n",
       "      <th>Date</th>\n",
       "      <th>SegFile</th>\n",
       "      <th>b</th>\n",
       "      <th>e</th>\n",
       "      <th>LBE</th>\n",
       "      <th>LB</th>\n",
       "      <th>AC</th>\n",
       "      <th>FM</th>\n",
       "      <th>UC</th>\n",
       "      <th>ASTV</th>\n",
       "      <th>MSTV</th>\n",
       "      <th>ALTV</th>\n",
       "      <th>MLTV</th>\n",
       "      <th>DL</th>\n",
       "      <th>DS</th>\n",
       "      <th>DP</th>\n",
       "      <th>DR</th>\n",
       "      <th>Width</th>\n",
       "      <th>Min</th>\n",
       "      <th>Max</th>\n",
       "      <th>Nmax</th>\n",
       "      <th>Nzeros</th>\n",
       "      <th>Mode</th>\n",
       "      <th>Mean</th>\n",
       "      <th>Median</th>\n",
       "      <th>Variance</th>\n",
       "      <th>Tendency</th>\n",
       "      <th>A</th>\n",
       "      <th>B</th>\n",
       "      <th>C</th>\n",
       "      <th>D</th>\n",
       "      <th>E</th>\n",
       "      <th>AD</th>\n",
       "      <th>DE</th>\n",
       "      <th>LD</th>\n",
       "      <th>FS</th>\n",
       "      <th>SUSP</th>\n",
       "      <th>CLASS</th>\n",
       "      <th>NSP</th>\n",
       "    </tr>\n",
       "  </thead>\n",
       "  <tbody>\n",
       "    <tr>\n",
       "      <th>1</th>\n",
       "      <td>Variab10.txt</td>\n",
       "      <td>1996-12-01</td>\n",
       "      <td>CTG0001.txt</td>\n",
       "      <td>240.0</td>\n",
       "      <td>357.0</td>\n",
       "      <td>120.0</td>\n",
       "      <td>120.0</td>\n",
       "      <td>0.0</td>\n",
       "      <td>0.0</td>\n",
       "      <td>0.0</td>\n",
       "      <td>73.0</td>\n",
       "      <td>0.5</td>\n",
       "      <td>43.0</td>\n",
       "      <td>2.4</td>\n",
       "      <td>0.0</td>\n",
       "      <td>0.0</td>\n",
       "      <td>0.0</td>\n",
       "      <td>0.0</td>\n",
       "      <td>64.0</td>\n",
       "      <td>62.0</td>\n",
       "      <td>126.0</td>\n",
       "      <td>2.0</td>\n",
       "      <td>0.0</td>\n",
       "      <td>120.0</td>\n",
       "      <td>137.0</td>\n",
       "      <td>121.0</td>\n",
       "      <td>73.0</td>\n",
       "      <td>1.0</td>\n",
       "      <td>0.0</td>\n",
       "      <td>0.0</td>\n",
       "      <td>0.0</td>\n",
       "      <td>0.0</td>\n",
       "      <td>0.0</td>\n",
       "      <td>0.0</td>\n",
       "      <td>0.0</td>\n",
       "      <td>0.0</td>\n",
       "      <td>1.0</td>\n",
       "      <td>0.0</td>\n",
       "      <td>9.0</td>\n",
       "      <td>2.0</td>\n",
       "    </tr>\n",
       "    <tr>\n",
       "      <th>2</th>\n",
       "      <td>Fmcs_1.txt</td>\n",
       "      <td>1996-05-03</td>\n",
       "      <td>CTG0002.txt</td>\n",
       "      <td>5.0</td>\n",
       "      <td>632.0</td>\n",
       "      <td>132.0</td>\n",
       "      <td>132.0</td>\n",
       "      <td>4.0</td>\n",
       "      <td>0.0</td>\n",
       "      <td>4.0</td>\n",
       "      <td>17.0</td>\n",
       "      <td>2.1</td>\n",
       "      <td>0.0</td>\n",
       "      <td>10.4</td>\n",
       "      <td>2.0</td>\n",
       "      <td>0.0</td>\n",
       "      <td>0.0</td>\n",
       "      <td>0.0</td>\n",
       "      <td>130.0</td>\n",
       "      <td>68.0</td>\n",
       "      <td>198.0</td>\n",
       "      <td>6.0</td>\n",
       "      <td>1.0</td>\n",
       "      <td>141.0</td>\n",
       "      <td>136.0</td>\n",
       "      <td>140.0</td>\n",
       "      <td>12.0</td>\n",
       "      <td>0.0</td>\n",
       "      <td>0.0</td>\n",
       "      <td>0.0</td>\n",
       "      <td>0.0</td>\n",
       "      <td>0.0</td>\n",
       "      <td>0.0</td>\n",
       "      <td>1.0</td>\n",
       "      <td>0.0</td>\n",
       "      <td>0.0</td>\n",
       "      <td>0.0</td>\n",
       "      <td>0.0</td>\n",
       "      <td>6.0</td>\n",
       "      <td>1.0</td>\n",
       "    </tr>\n",
       "    <tr>\n",
       "      <th>3</th>\n",
       "      <td>Fmcs_1.txt</td>\n",
       "      <td>1996-05-03</td>\n",
       "      <td>CTG0003.txt</td>\n",
       "      <td>177.0</td>\n",
       "      <td>779.0</td>\n",
       "      <td>133.0</td>\n",
       "      <td>133.0</td>\n",
       "      <td>2.0</td>\n",
       "      <td>0.0</td>\n",
       "      <td>5.0</td>\n",
       "      <td>16.0</td>\n",
       "      <td>2.1</td>\n",
       "      <td>0.0</td>\n",
       "      <td>13.4</td>\n",
       "      <td>2.0</td>\n",
       "      <td>0.0</td>\n",
       "      <td>0.0</td>\n",
       "      <td>0.0</td>\n",
       "      <td>130.0</td>\n",
       "      <td>68.0</td>\n",
       "      <td>198.0</td>\n",
       "      <td>5.0</td>\n",
       "      <td>1.0</td>\n",
       "      <td>141.0</td>\n",
       "      <td>135.0</td>\n",
       "      <td>138.0</td>\n",
       "      <td>13.0</td>\n",
       "      <td>0.0</td>\n",
       "      <td>0.0</td>\n",
       "      <td>0.0</td>\n",
       "      <td>0.0</td>\n",
       "      <td>0.0</td>\n",
       "      <td>0.0</td>\n",
       "      <td>1.0</td>\n",
       "      <td>0.0</td>\n",
       "      <td>0.0</td>\n",
       "      <td>0.0</td>\n",
       "      <td>0.0</td>\n",
       "      <td>6.0</td>\n",
       "      <td>1.0</td>\n",
       "    </tr>\n",
       "    <tr>\n",
       "      <th>4</th>\n",
       "      <td>Fmcs_1.txt</td>\n",
       "      <td>1996-05-03</td>\n",
       "      <td>CTG0004.txt</td>\n",
       "      <td>411.0</td>\n",
       "      <td>1192.0</td>\n",
       "      <td>134.0</td>\n",
       "      <td>134.0</td>\n",
       "      <td>2.0</td>\n",
       "      <td>0.0</td>\n",
       "      <td>6.0</td>\n",
       "      <td>16.0</td>\n",
       "      <td>2.4</td>\n",
       "      <td>0.0</td>\n",
       "      <td>23.0</td>\n",
       "      <td>2.0</td>\n",
       "      <td>0.0</td>\n",
       "      <td>0.0</td>\n",
       "      <td>0.0</td>\n",
       "      <td>117.0</td>\n",
       "      <td>53.0</td>\n",
       "      <td>170.0</td>\n",
       "      <td>11.0</td>\n",
       "      <td>0.0</td>\n",
       "      <td>137.0</td>\n",
       "      <td>134.0</td>\n",
       "      <td>137.0</td>\n",
       "      <td>13.0</td>\n",
       "      <td>1.0</td>\n",
       "      <td>0.0</td>\n",
       "      <td>0.0</td>\n",
       "      <td>0.0</td>\n",
       "      <td>0.0</td>\n",
       "      <td>0.0</td>\n",
       "      <td>1.0</td>\n",
       "      <td>0.0</td>\n",
       "      <td>0.0</td>\n",
       "      <td>0.0</td>\n",
       "      <td>0.0</td>\n",
       "      <td>6.0</td>\n",
       "      <td>1.0</td>\n",
       "    </tr>\n",
       "    <tr>\n",
       "      <th>5</th>\n",
       "      <td>Fmcs_1.txt</td>\n",
       "      <td>1996-05-03</td>\n",
       "      <td>CTG0005.txt</td>\n",
       "      <td>533.0</td>\n",
       "      <td>1147.0</td>\n",
       "      <td>132.0</td>\n",
       "      <td>132.0</td>\n",
       "      <td>4.0</td>\n",
       "      <td>0.0</td>\n",
       "      <td>5.0</td>\n",
       "      <td>16.0</td>\n",
       "      <td>2.4</td>\n",
       "      <td>0.0</td>\n",
       "      <td>19.9</td>\n",
       "      <td>0.0</td>\n",
       "      <td>0.0</td>\n",
       "      <td>0.0</td>\n",
       "      <td>0.0</td>\n",
       "      <td>117.0</td>\n",
       "      <td>53.0</td>\n",
       "      <td>170.0</td>\n",
       "      <td>9.0</td>\n",
       "      <td>0.0</td>\n",
       "      <td>137.0</td>\n",
       "      <td>136.0</td>\n",
       "      <td>138.0</td>\n",
       "      <td>11.0</td>\n",
       "      <td>1.0</td>\n",
       "      <td>0.0</td>\n",
       "      <td>1.0</td>\n",
       "      <td>0.0</td>\n",
       "      <td>0.0</td>\n",
       "      <td>0.0</td>\n",
       "      <td>0.0</td>\n",
       "      <td>0.0</td>\n",
       "      <td>0.0</td>\n",
       "      <td>0.0</td>\n",
       "      <td>0.0</td>\n",
       "      <td>2.0</td>\n",
       "      <td>1.0</td>\n",
       "    </tr>\n",
       "  </tbody>\n",
       "</table>\n",
       "</div>"
      ],
      "text/plain": [
       "       FileName       Date      SegFile      b       e    LBE     LB   AC  \\\n",
       "1  Variab10.txt 1996-12-01  CTG0001.txt  240.0   357.0  120.0  120.0  0.0   \n",
       "2    Fmcs_1.txt 1996-05-03  CTG0002.txt    5.0   632.0  132.0  132.0  4.0   \n",
       "3    Fmcs_1.txt 1996-05-03  CTG0003.txt  177.0   779.0  133.0  133.0  2.0   \n",
       "4    Fmcs_1.txt 1996-05-03  CTG0004.txt  411.0  1192.0  134.0  134.0  2.0   \n",
       "5    Fmcs_1.txt 1996-05-03  CTG0005.txt  533.0  1147.0  132.0  132.0  4.0   \n",
       "\n",
       "    FM   UC  ASTV  MSTV  ALTV  MLTV   DL   DS   DP   DR  Width   Min    Max  \\\n",
       "1  0.0  0.0  73.0   0.5  43.0   2.4  0.0  0.0  0.0  0.0   64.0  62.0  126.0   \n",
       "2  0.0  4.0  17.0   2.1   0.0  10.4  2.0  0.0  0.0  0.0  130.0  68.0  198.0   \n",
       "3  0.0  5.0  16.0   2.1   0.0  13.4  2.0  0.0  0.0  0.0  130.0  68.0  198.0   \n",
       "4  0.0  6.0  16.0   2.4   0.0  23.0  2.0  0.0  0.0  0.0  117.0  53.0  170.0   \n",
       "5  0.0  5.0  16.0   2.4   0.0  19.9  0.0  0.0  0.0  0.0  117.0  53.0  170.0   \n",
       "\n",
       "   Nmax  Nzeros   Mode   Mean  Median  Variance  Tendency    A    B    C    D  \\\n",
       "1   2.0     0.0  120.0  137.0   121.0      73.0       1.0  0.0  0.0  0.0  0.0   \n",
       "2   6.0     1.0  141.0  136.0   140.0      12.0       0.0  0.0  0.0  0.0  0.0   \n",
       "3   5.0     1.0  141.0  135.0   138.0      13.0       0.0  0.0  0.0  0.0  0.0   \n",
       "4  11.0     0.0  137.0  134.0   137.0      13.0       1.0  0.0  0.0  0.0  0.0   \n",
       "5   9.0     0.0  137.0  136.0   138.0      11.0       1.0  0.0  1.0  0.0  0.0   \n",
       "\n",
       "     E   AD   DE   LD   FS  SUSP  CLASS  NSP  \n",
       "1  0.0  0.0  0.0  0.0  1.0   0.0    9.0  2.0  \n",
       "2  0.0  1.0  0.0  0.0  0.0   0.0    6.0  1.0  \n",
       "3  0.0  1.0  0.0  0.0  0.0   0.0    6.0  1.0  \n",
       "4  0.0  1.0  0.0  0.0  0.0   0.0    6.0  1.0  \n",
       "5  0.0  0.0  0.0  0.0  0.0   0.0    2.0  1.0  "
      ]
     },
     "execution_count": 82,
     "metadata": {},
     "output_type": "execute_result"
    }
   ],
   "source": [
    "raw_data = (\n",
    "    pd.read_excel('./CTG.xls', sheet_name=\"Raw Data\")\n",
    "    .head(-3)  # remove some summary data rows at the foot of the file\n",
    "    .tail(-1)  # remove empty first row\n",
    ")\n",
    "raw_data.head()"
   ]
  },
  {
   "cell_type": "markdown",
   "metadata": {},
   "source": [
    "The first sheet of the spreadsheet is a very terse summary of the various features in the data we've downloaded. Yes, it would be interesting (and probably more powerful) to apply timeseries ML methods (like RNNs) to the raw time series, but unfortunely the only data we have here are summary statistics. First there's metadata:\n",
    "\n",
    "| feature  | description        |\n",
    "| -------- | ------------------ |\n",
    "| FileName | of CTG examination |\n",
    "| Date     | of the examination |\n",
    "| b        | start instant      |\n",
    "| e        | end instant        |\n",
    "\n",
    "So we have when and how long each CTG measurement lasted. Nothing too useful except for `e` - `b` (the duration) could have some information (or perhaps indicate bias: did the nurse measure the patient longer in cases where other signs indicated problems?). "
   ]
  },
  {
   "cell_type": "markdown",
   "metadata": {},
   "source": [
    "Hmm. There are a lot of repeated filenames, that always pair with one date. There's also an unannotated `SegFile` column."
   ]
  },
  {
   "cell_type": "code",
   "execution_count": 46,
   "metadata": {},
   "outputs": [
    {
     "data": {
      "text/plain": [
       "1    352\n",
       "Name: Date, dtype: int64"
      ]
     },
     "execution_count": 46,
     "metadata": {},
     "output_type": "execute_result"
    }
   ],
   "source": [
    "# Files have only one date each\n",
    "raw_data.groupby('FileName')['Date'].nunique().value_counts()"
   ]
  },
  {
   "cell_type": "code",
   "execution_count": 45,
   "metadata": {},
   "outputs": [
    {
     "data": {
      "text/plain": [
       "True"
      ]
     },
     "execution_count": 45,
     "metadata": {},
     "output_type": "execute_result"
    }
   ],
   "source": [
    "#SegFiles are the unique identifiers for each row in the dataset\n",
    "raw_data['SegFile'].nunique() == len(raw_data)"
   ]
  },
  {
   "cell_type": "code",
   "execution_count": null,
   "metadata": {},
   "outputs": [
    {
     "data": {
      "text/plain": [
       "1    264\n",
       "2     80\n",
       "3      8\n",
       "Name: NSP, dtype: int64"
      ]
     },
     "metadata": {},
     "output_type": "display_data"
    }
   ],
   "source": [
    "# Segfiles under the same FileName can have different diagnoses, but generally don't\n",
    "# \"NSP\" is the Normal, Suspect, Pathological target label column\n",
    "raw_data.groupby('FileName')['NSP'].nunique().value_counts()"
   ]
  },
  {
   "cell_type": "code",
   "execution_count": 128,
   "metadata": {},
   "outputs": [
    {
     "data": {
      "text/plain": [
       "duration      13.175703\n",
       "seg_count      6.039773\n",
       "total_time    82.990246\n",
       "dtype: float64"
      ]
     },
     "execution_count": 128,
     "metadata": {},
     "output_type": "execute_result"
    }
   ],
   "source": [
    "# The mean duration of each segfile is 13.2 min, but CTG is recommended by experts to be done for at least 20 min. \n",
    "# This suggests that longer duration monitoring sessions were split into segments\n",
    "# That said, start and end times overlap across segments, so...?\n",
    "raw_data[\"duration\"] = (raw_data[\"e\"] - raw_data[\"b\"]) / 60 # assuming instant is in seconds, covert to minutes\n",
    "assert raw_data.duration.min() > 0\n",
    "d = raw_data.groupby('FileName')[['duration']].mean() \n",
    "d[\"seg_count\"] =  raw_data.groupby('FileName')[['SegFile']].nunique()\n",
    "d['total_time'] = d['duration'] * d[\"seg_count\"]\n",
    "d.mean()"
   ]
  },
  {
   "cell_type": "markdown",
   "metadata": {},
   "source": [
    "After doing some research, it seems like each `Segfile` might be a segment of a given patient's full reading. This segmentation was likely done as a [data augmentation step](https://arxiv.org/pdf/1908.02338.pdf), so more labeled data can be squeezed out of fewer CTGs. I'm not certain about this though as documentation for this dataset is extremely sparse. For the purposes of this exercise, I'll explicityly go ahead and assume each sample is independant; if this were a real-life project I'd have to stop here and figure out what's actually going on since this independence assumption is critical."
   ]
  },
  {
   "cell_type": "markdown",
   "metadata": {},
   "source": [
    "\n",
    "\n",
    "Next come the features:\n",
    "\n",
    "| LBE      | baseline value (medical expert)                                         |\n",
    "| -------- | ----------------------------------------------------------------------- |\n",
    "| LB       | baseline value (SisPorto)                                               |\n",
    "| AC       | accelerations (SisPorto)                                                |\n",
    "| FM       | foetal movement (SisPorto)                                              |\n",
    "| UC       | uterine contractions (SisPorto)                                         |\n",
    "| ASTV     | percentage of time with abnormal short term variability  (SisPorto)     |\n",
    "| mSTV     | mean value of short term variability  (SisPorto)                        |\n",
    "| ALTV     | percentage of time with abnormal long term variability  (SisPorto)      |\n",
    "| mLTV     | mean value of long term variability  (SisPorto)                         |\n",
    "| DL       | light decelerations                                                     |\n",
    "| DS       | severe decelerations                                                    |\n",
    "| DP       | prolongued decelerations                                                |\n",
    "| DR       | repetitive decelerations                                                |\n",
    "| Width    | histogram width                                                         |\n",
    "| Min      | low freq. of the histogram                                              |\n",
    "| Max      | high freq. of the histogram                                             |\n",
    "| Nmax     | number of histogram peaks                                               |\n",
    "| Nzeros   | number of histogram zeros                                               |\n",
    "| Mode     | histogram mode                                                          |\n",
    "| Mean     | histogram mean                                                          |\n",
    "| Median   | histogram median                                                        |\n",
    "| Variance | histogram variance                                                      |\n",
    "| Tendency | histogram tendency: -1=left assymetric; 0=symmetric; 1=right assymetric |"
   ]
  },
  {
   "cell_type": "markdown",
   "metadata": {},
   "source": [
    "There are several human-labeled target class columns, but we only care about NSP (Normal=1; Suspect=2; Pathologic=3). We can't include the others because that would require an expert human element to our system of automatic classification. "
   ]
  },
  {
   "cell_type": "markdown",
   "metadata": {},
   "source": [
    "It's important to take some time to get to know what all this stuff actually means. \"SisPorto\" is the name of the [CTG device company](http://www.omniview.eu/ing/overview) founded by the guys who generated this dataset. It automaticaly generates all features labeled as such.\n"
   ]
  },
  {
   "cell_type": "markdown",
   "metadata": {},
   "source": [
    "\n",
    " ### LB \n",
    " #### baseline value (SisPorto)     \n",
    " Baseline fetal heart rate: \"The baseline FHR is determined by approximating the mean FHR rounded to increments of 5 beats per minute (bpm) during a 10-minute window, excluding accelerations and decelerations and periods of marked FHR variability (greater than 25 bpm). There must be at least 2 minutes of identifiable baseline segments (not necessarily contiguous) in any 10-minute window, or the baseline for that period is indeterminate. In such cases, it may be necessary to refer to the previous 10-minute window for determination of the baseline. An abnormal baseline is termed bradycardia when the baseline FHR is less than 110 bpm; it is termed tachycardia when the baseline FHR is greater than 160 bpm.\"|"
   ]
  },
  {
   "cell_type": "code",
   "execution_count": 106,
   "metadata": {},
   "outputs": [
    {
     "data": {
      "text/plain": [
       "<AxesSubplot:>"
      ]
     },
     "execution_count": 106,
     "metadata": {},
     "output_type": "execute_result"
    },
    {
     "data": {
      "image/png": "[encoded data removed]",
      "text/plain": [
       "<Figure size 1130.4x595.44 with 1 Axes>"
      ]
     },
     "metadata": {},
     "output_type": "display_data"
    }
   ],
   "source": [
    "raw_data.LB.hist()"
   ]
  },
  {
   "cell_type": "markdown",
   "metadata": {},
   "source": [
    "### LBE \n",
    "#### baseline value (medical expert)\n",
    "Heartrate baseline according to a human expert"
   ]
  },
  {
   "cell_type": "code",
   "execution_count": 108,
   "metadata": {},
   "outputs": [
    {
     "data": {
      "text/html": [
       "<div>\n",
       "<style scoped>\n",
       "    .dataframe tbody tr th:only-of-type {\n",
       "        vertical-align: middle;\n",
       "    }\n",
       "\n",
       "    .dataframe tbody tr th {\n",
       "        vertical-align: top;\n",
       "    }\n",
       "\n",
       "    .dataframe thead th {\n",
       "        text-align: right;\n",
       "    }\n",
       "</style>\n",
       "<table border=\"1\" class=\"dataframe\">\n",
       "  <thead>\n",
       "    <tr style=\"text-align: right;\">\n",
       "      <th></th>\n",
       "      <th>LB</th>\n",
       "      <th>LBE</th>\n",
       "    </tr>\n",
       "  </thead>\n",
       "  <tbody>\n",
       "    <tr>\n",
       "      <th>LB</th>\n",
       "      <td>1.0</td>\n",
       "      <td>1.0</td>\n",
       "    </tr>\n",
       "    <tr>\n",
       "      <th>LBE</th>\n",
       "      <td>1.0</td>\n",
       "      <td>1.0</td>\n",
       "    </tr>\n",
       "  </tbody>\n",
       "</table>\n",
       "</div>"
      ],
      "text/plain": [
       "      LB  LBE\n",
       "LB   1.0  1.0\n",
       "LBE  1.0  1.0"
      ]
     },
     "execution_count": 108,
     "metadata": {},
     "output_type": "execute_result"
    }
   ],
   "source": [
    "# Two reading are pefectly correlated, so will need to drop one\n",
    "raw_data[['LB', \"LBE\"]].corr()"
   ]
  },
  {
   "cell_type": "markdown",
   "metadata": {},
   "source": [
    "### AC\n",
    "#### accelerations (SisPorto) \n",
    "\"number of increases in FHR over the baseline lasting 15–120 s and reaching a peak of atleast 15 bpm in 60 min\"\n"
   ]
  },
  {
   "cell_type": "code",
   "execution_count": 109,
   "metadata": {},
   "outputs": [
    {
     "data": {
      "text/plain": [
       "<AxesSubplot:>"
      ]
     },
     "execution_count": 109,
     "metadata": {},
     "output_type": "execute_result"
    },
    {
     "data": {
      "image/png": "[encoded data removed]",
      "text/plain": [
       "<Figure size 1130.4x595.44 with 1 Axes>"
      ]
     },
     "metadata": {},
     "output_type": "display_data"
    }
   ],
   "source": [
    "raw_data.AC.hist()"
   ]
  },
  {
   "cell_type": "markdown",
   "metadata": {},
   "source": [
    "### FM      \n",
    "#### foetal movement (SisPorto)\n",
    "Number of movements over the period. When the mother feels movement she pushes a button. "
   ]
  },
  {
   "cell_type": "code",
   "execution_count": 133,
   "metadata": {},
   "outputs": [
    {
     "data": {
      "image/png": "[encoded data removed]",
      "text/plain": [
       "<Figure size 1130.4x595.44 with 1 Axes>"
      ]
     },
     "metadata": {},
     "output_type": "display_data"
    },
    {
     "data": {
      "text/plain": [
       "<AxesSubplot:xlabel='duration', ylabel='FM'>"
      ]
     },
     "execution_count": 133,
     "metadata": {},
     "output_type": "execute_result"
    },
    {
     "data": {
      "image/png": "[encoded data removed]",
      "text/plain": [
       "<Figure size 1130.4x595.44 with 1 Axes>"
      ]
     },
     "metadata": {},
     "output_type": "display_data"
    }
   ],
   "source": [
    "# Huge outliers needs closer examination\n",
    "# Hard to believe fetus is moving hundreds of times in only a few minutes\n",
    "# Maybe some mothers just love pushing the button?\n",
    "tail_FM = raw_data[raw_data.FM > 10]\n",
    "tail_FM.FM.hist(bins=100)\n",
    "plt.show()\n",
    "tail_FM.duration.describe()\n",
    "sns.regplot(x=\"duration\", y=\"FM\", data=tail_FM)"
   ]
  },
  {
   "cell_type": "markdown",
   "metadata": {},
   "source": [
    "### UC\n",
    "#### uterine contractions (SisPorto)\n",
    "\n",
    "Number of contractions over the period, measured by a pressure sensistive belt (tocodynamometer)"
   ]
  },
  {
   "cell_type": "code",
   "execution_count": 134,
   "metadata": {},
   "outputs": [
    {
     "data": {
      "text/plain": [
       "<AxesSubplot:>"
      ]
     },
     "execution_count": 134,
     "metadata": {},
     "output_type": "execute_result"
    },
    {
     "data": {
      "image/png": "[encoded data removed]",
      "text/plain": [
       "<Figure size 1130.4x595.44 with 1 Axes>"
      ]
     },
     "metadata": {},
     "output_type": "display_data"
    }
   ],
   "source": [
    "raw_data.UC.hist()"
   ]
  },
  {
   "cell_type": "markdown",
   "metadata": {},
   "source": [
    "### mSTV\n",
    "#### mean value of short term variability  (SisPorto)\n",
    "\"mean difference between adjacent FHR signals at 4 Hz on the fetal monitor, after removal of adjacent signals that differ>15 bpm\" how big short term variability is, but filtered for some reason"
   ]
  },
  {
   "cell_type": "code",
   "execution_count": 136,
   "metadata": {},
   "outputs": [
    {
     "data": {
      "text/plain": [
       "<AxesSubplot:>"
      ]
     },
     "execution_count": 136,
     "metadata": {},
     "output_type": "execute_result"
    },
    {
     "data": {
      "image/png": "[encoded data removed]",
      "text/plain": [
       "<Figure size 1130.4x595.44 with 1 Axes>"
      ]
     },
     "metadata": {},
     "output_type": "display_data"
    }
   ],
   "source": [
    "raw_data.MSTVk.hist()"
   ]
  },
  {
   "cell_type": "markdown",
   "metadata": {},
   "source": [
    "\n",
    "- ALTV     | percentage of time with abnormal long term variability  (SisPorto) | \"percentage of FHR signals with a difference between minimumand maximum values in a surrounding 1 min window<5 bpm\"\n",
    "- mLTV     | mean value of long term variability  (SisPorto) | \"mean difference between max and min FHR in a 1 min sliding window, in segments free ofaccelerations or deceleration\"\n",
    "- DL       | light decelerations | \"number of decreases in FHR under the baseline lasting 15–120 s, with a minimum amplitude of 15 bpm in 60 min\"\n",
    "- DS       | severe decelerations | ? \"number of decreases in FHR under the baseline lasting 120–300 s, with a minimumamplitude of 15 bpm in 60 min\" (definition of \"intermediate\", did not see \"severe\") \n",
    "- DP | prolongued decelerations  | \"number of decelerations lasting more than 300s in 60 min\" \n",
    "- DR       | repetitive decelerations | Couldn't find a good definition, but its value is 0 for every sample in our data so irrellevant anyway. \n",
    "- Width    | histogram width | The \"histogram\" one of FHR samples. This is the range (this should be Min - Max, so we should remove if completely collinear)\n",
    "- Min      | low freq. of the histogram|\n",
    "- Max      | high freq. of the histogram |\n",
    "- Nmax     | number of histogram peaks |\n",
    "- Nzeros   | number of histogram zeros |\n",
    "- Mode     | histogram mode | seems like this would be highly correlated with baseline FHR\n",
    "- Mean     | histogram mean | seems like this would be highly correlated with baseline FHR\n",
    "- Median   | histogram median | seems like this would be highly correlated with baseline FHR. Mean - Median should be collinear with tendency\n",
    "- Variance | histogram variance| probably colliner with hist width\n",
    "- Tendency | histogram tendency: -1=left assymetric; 0=symmetric; 1=right assymetric | hist skew\n",
    "\n",
    "\n",
    "\n",
    "Based on these definition, we need to normalize some of the count data by time. Also some of the metrics are only \"in absence of accelerations or decellerations\" so might need normalization there too. Apprently it's important to see of decellerations coincide with contractions (makes sense, as the baby's hr decreases when it's getting squeezed, then goes back to normal). "
   ]
  },
  {
   "cell_type": "code",
   "execution_count": 101,
   "metadata": {},
   "outputs": [],
   "source": [
    "ALL_FEATURES = [ \n",
    "    'b', 'e', 'LB', 'AC', 'FM', 'UC', 'ASTV', 'MSTV', 'ALTV', 'MLTV', \n",
    "    'DL', 'DS', 'DP', 'Width', 'Min', 'Max', 'Nmax', 'Nzeros', 'Mode',\n",
    "    'Mean', 'Median', 'Variance', 'Tendency', \"duration\"\n",
    "]\n",
    "\n",
    "TARGET = \"NSP\"\n",
    "ALL_COLUMNS = ALL_FEATURES + [TARGET]\n",
    "raw_data_filtered = raw_data[ALL_COLUMNS]"
   ]
  },
  {
   "cell_type": "code",
   "execution_count": 102,
   "metadata": {},
   "outputs": [
    {
     "data": {
      "text/plain": [
       "<AxesSubplot:>"
      ]
     },
     "execution_count": 102,
     "metadata": {},
     "output_type": "execute_result"
    },
    {
     "data": {
      "image/png": "[encoded data removed]",
      "text/plain": [
       "<Figure size 1130.4x595.44 with 2 Axes>"
      ]
     },
     "metadata": {},
     "output_type": "display_data"
    }
   ],
   "source": [
    "sns.heatmap(raw_data_filtered.corr())"
   ]
  },
  {
   "cell_type": "code",
   "execution_count": null,
   "metadata": {},
   "outputs": [
    {
     "data": {
      "text/html": [
       "<div>\n",
       "<style scoped>\n",
       "    .dataframe tbody tr th:only-of-type {\n",
       "        vertical-align: middle;\n",
       "    }\n",
       "\n",
       "    .dataframe tbody tr th {\n",
       "        vertical-align: top;\n",
       "    }\n",
       "\n",
       "    .dataframe thead th {\n",
       "        text-align: right;\n",
       "    }\n",
       "</style>\n",
       "<table border=\"1\" class=\"dataframe\">\n",
       "  <thead>\n",
       "    <tr style=\"text-align: right;\">\n",
       "      <th></th>\n",
       "      <th>b</th>\n",
       "      <th>e</th>\n",
       "      <th>LBE</th>\n",
       "      <th>LB</th>\n",
       "      <th>AC</th>\n",
       "      <th>FM</th>\n",
       "      <th>UC</th>\n",
       "      <th>ASTV</th>\n",
       "      <th>MSTV</th>\n",
       "      <th>ALTV</th>\n",
       "      <th>MLTV</th>\n",
       "      <th>DL</th>\n",
       "      <th>DS</th>\n",
       "      <th>DP</th>\n",
       "      <th>DR</th>\n",
       "      <th>Width</th>\n",
       "      <th>Min</th>\n",
       "      <th>Max</th>\n",
       "      <th>Nmax</th>\n",
       "      <th>Nzeros</th>\n",
       "      <th>Mode</th>\n",
       "      <th>Mean</th>\n",
       "      <th>Median</th>\n",
       "      <th>Variance</th>\n",
       "      <th>Tendency</th>\n",
       "      <th>A</th>\n",
       "      <th>B</th>\n",
       "      <th>C</th>\n",
       "      <th>D</th>\n",
       "      <th>E</th>\n",
       "      <th>AD</th>\n",
       "      <th>DE</th>\n",
       "      <th>LD</th>\n",
       "      <th>FS</th>\n",
       "      <th>SUSP</th>\n",
       "      <th>CLASS</th>\n",
       "      <th>NSP</th>\n",
       "    </tr>\n",
       "  </thead>\n",
       "  <tbody>\n",
       "    <tr>\n",
       "      <th>count</th>\n",
       "      <td>2126.000000</td>\n",
       "      <td>2126.000000</td>\n",
       "      <td>2126.000000</td>\n",
       "      <td>2126.000000</td>\n",
       "      <td>2126.000000</td>\n",
       "      <td>2126.000000</td>\n",
       "      <td>2126.000000</td>\n",
       "      <td>2126.000000</td>\n",
       "      <td>2126.000000</td>\n",
       "      <td>2126.00000</td>\n",
       "      <td>2126.000000</td>\n",
       "      <td>2126.000000</td>\n",
       "      <td>2126.000000</td>\n",
       "      <td>2126.000000</td>\n",
       "      <td>2126.0</td>\n",
       "      <td>2126.000000</td>\n",
       "      <td>2126.000000</td>\n",
       "      <td>2126.000000</td>\n",
       "      <td>2126.000000</td>\n",
       "      <td>2126.000000</td>\n",
       "      <td>2126.000000</td>\n",
       "      <td>2126.000000</td>\n",
       "      <td>2126.000000</td>\n",
       "      <td>2126.000000</td>\n",
       "      <td>2126.000000</td>\n",
       "      <td>2126.000000</td>\n",
       "      <td>2126.000000</td>\n",
       "      <td>2126.000000</td>\n",
       "      <td>2126.000000</td>\n",
       "      <td>2126.000000</td>\n",
       "      <td>2126.000000</td>\n",
       "      <td>2126.000000</td>\n",
       "      <td>2126.000000</td>\n",
       "      <td>2126.000000</td>\n",
       "      <td>2126.000000</td>\n",
       "      <td>2126.000000</td>\n",
       "      <td>2126.000000</td>\n",
       "    </tr>\n",
       "    <tr>\n",
       "      <th>mean</th>\n",
       "      <td>878.439793</td>\n",
       "      <td>1702.877234</td>\n",
       "      <td>133.303857</td>\n",
       "      <td>133.303857</td>\n",
       "      <td>2.722484</td>\n",
       "      <td>7.241298</td>\n",
       "      <td>3.659925</td>\n",
       "      <td>46.990122</td>\n",
       "      <td>1.332785</td>\n",
       "      <td>9.84666</td>\n",
       "      <td>8.187629</td>\n",
       "      <td>1.570085</td>\n",
       "      <td>0.003293</td>\n",
       "      <td>0.126058</td>\n",
       "      <td>0.0</td>\n",
       "      <td>70.445908</td>\n",
       "      <td>93.579492</td>\n",
       "      <td>164.025400</td>\n",
       "      <td>4.068203</td>\n",
       "      <td>0.323612</td>\n",
       "      <td>137.452023</td>\n",
       "      <td>134.610536</td>\n",
       "      <td>138.090310</td>\n",
       "      <td>18.808090</td>\n",
       "      <td>0.320320</td>\n",
       "      <td>0.180621</td>\n",
       "      <td>0.272342</td>\n",
       "      <td>0.024929</td>\n",
       "      <td>0.038100</td>\n",
       "      <td>0.033866</td>\n",
       "      <td>0.156162</td>\n",
       "      <td>0.118532</td>\n",
       "      <td>0.050329</td>\n",
       "      <td>0.032455</td>\n",
       "      <td>0.092662</td>\n",
       "      <td>4.509878</td>\n",
       "      <td>1.304327</td>\n",
       "    </tr>\n",
       "    <tr>\n",
       "      <th>std</th>\n",
       "      <td>894.084748</td>\n",
       "      <td>930.919143</td>\n",
       "      <td>9.840844</td>\n",
       "      <td>9.840844</td>\n",
       "      <td>3.560850</td>\n",
       "      <td>37.125309</td>\n",
       "      <td>2.847094</td>\n",
       "      <td>17.192814</td>\n",
       "      <td>0.883241</td>\n",
       "      <td>18.39688</td>\n",
       "      <td>5.628247</td>\n",
       "      <td>2.499229</td>\n",
       "      <td>0.057300</td>\n",
       "      <td>0.464361</td>\n",
       "      <td>0.0</td>\n",
       "      <td>38.955693</td>\n",
       "      <td>29.560212</td>\n",
       "      <td>17.944183</td>\n",
       "      <td>2.949386</td>\n",
       "      <td>0.706059</td>\n",
       "      <td>16.381289</td>\n",
       "      <td>15.593596</td>\n",
       "      <td>14.466589</td>\n",
       "      <td>28.977636</td>\n",
       "      <td>0.610829</td>\n",
       "      <td>0.384794</td>\n",
       "      <td>0.445270</td>\n",
       "      <td>0.155947</td>\n",
       "      <td>0.191482</td>\n",
       "      <td>0.180928</td>\n",
       "      <td>0.363094</td>\n",
       "      <td>0.323314</td>\n",
       "      <td>0.218675</td>\n",
       "      <td>0.177248</td>\n",
       "      <td>0.290027</td>\n",
       "      <td>3.026883</td>\n",
       "      <td>0.614377</td>\n",
       "    </tr>\n",
       "    <tr>\n",
       "      <th>min</th>\n",
       "      <td>0.000000</td>\n",
       "      <td>287.000000</td>\n",
       "      <td>106.000000</td>\n",
       "      <td>106.000000</td>\n",
       "      <td>0.000000</td>\n",
       "      <td>0.000000</td>\n",
       "      <td>0.000000</td>\n",
       "      <td>12.000000</td>\n",
       "      <td>0.200000</td>\n",
       "      <td>0.00000</td>\n",
       "      <td>0.000000</td>\n",
       "      <td>0.000000</td>\n",
       "      <td>0.000000</td>\n",
       "      <td>0.000000</td>\n",
       "      <td>0.0</td>\n",
       "      <td>3.000000</td>\n",
       "      <td>50.000000</td>\n",
       "      <td>122.000000</td>\n",
       "      <td>0.000000</td>\n",
       "      <td>0.000000</td>\n",
       "      <td>60.000000</td>\n",
       "      <td>73.000000</td>\n",
       "      <td>77.000000</td>\n",
       "      <td>0.000000</td>\n",
       "      <td>-1.000000</td>\n",
       "      <td>0.000000</td>\n",
       "      <td>0.000000</td>\n",
       "      <td>0.000000</td>\n",
       "      <td>0.000000</td>\n",
       "      <td>0.000000</td>\n",
       "      <td>0.000000</td>\n",
       "      <td>0.000000</td>\n",
       "      <td>0.000000</td>\n",
       "      <td>0.000000</td>\n",
       "      <td>0.000000</td>\n",
       "      <td>1.000000</td>\n",
       "      <td>1.000000</td>\n",
       "    </tr>\n",
       "    <tr>\n",
       "      <th>25%</th>\n",
       "      <td>55.000000</td>\n",
       "      <td>1009.000000</td>\n",
       "      <td>126.000000</td>\n",
       "      <td>126.000000</td>\n",
       "      <td>0.000000</td>\n",
       "      <td>0.000000</td>\n",
       "      <td>1.000000</td>\n",
       "      <td>32.000000</td>\n",
       "      <td>0.700000</td>\n",
       "      <td>0.00000</td>\n",
       "      <td>4.600000</td>\n",
       "      <td>0.000000</td>\n",
       "      <td>0.000000</td>\n",
       "      <td>0.000000</td>\n",
       "      <td>0.0</td>\n",
       "      <td>37.000000</td>\n",
       "      <td>67.000000</td>\n",
       "      <td>152.000000</td>\n",
       "      <td>2.000000</td>\n",
       "      <td>0.000000</td>\n",
       "      <td>129.000000</td>\n",
       "      <td>125.000000</td>\n",
       "      <td>129.000000</td>\n",
       "      <td>2.000000</td>\n",
       "      <td>0.000000</td>\n",
       "      <td>0.000000</td>\n",
       "      <td>0.000000</td>\n",
       "      <td>0.000000</td>\n",
       "      <td>0.000000</td>\n",
       "      <td>0.000000</td>\n",
       "      <td>0.000000</td>\n",
       "      <td>0.000000</td>\n",
       "      <td>0.000000</td>\n",
       "      <td>0.000000</td>\n",
       "      <td>0.000000</td>\n",
       "      <td>2.000000</td>\n",
       "      <td>1.000000</td>\n",
       "    </tr>\n",
       "    <tr>\n",
       "      <th>50%</th>\n",
       "      <td>538.000000</td>\n",
       "      <td>1241.000000</td>\n",
       "      <td>133.000000</td>\n",
       "      <td>133.000000</td>\n",
       "      <td>1.000000</td>\n",
       "      <td>0.000000</td>\n",
       "      <td>3.000000</td>\n",
       "      <td>49.000000</td>\n",
       "      <td>1.200000</td>\n",
       "      <td>0.00000</td>\n",
       "      <td>7.400000</td>\n",
       "      <td>0.000000</td>\n",
       "      <td>0.000000</td>\n",
       "      <td>0.000000</td>\n",
       "      <td>0.0</td>\n",
       "      <td>67.500000</td>\n",
       "      <td>93.000000</td>\n",
       "      <td>162.000000</td>\n",
       "      <td>3.000000</td>\n",
       "      <td>0.000000</td>\n",
       "      <td>139.000000</td>\n",
       "      <td>136.000000</td>\n",
       "      <td>139.000000</td>\n",
       "      <td>7.000000</td>\n",
       "      <td>0.000000</td>\n",
       "      <td>0.000000</td>\n",
       "      <td>0.000000</td>\n",
       "      <td>0.000000</td>\n",
       "      <td>0.000000</td>\n",
       "      <td>0.000000</td>\n",
       "      <td>0.000000</td>\n",
       "      <td>0.000000</td>\n",
       "      <td>0.000000</td>\n",
       "      <td>0.000000</td>\n",
       "      <td>0.000000</td>\n",
       "      <td>4.000000</td>\n",
       "      <td>1.000000</td>\n",
       "    </tr>\n",
       "    <tr>\n",
       "      <th>75%</th>\n",
       "      <td>1521.000000</td>\n",
       "      <td>2434.750000</td>\n",
       "      <td>140.000000</td>\n",
       "      <td>140.000000</td>\n",
       "      <td>4.000000</td>\n",
       "      <td>2.000000</td>\n",
       "      <td>5.000000</td>\n",
       "      <td>61.000000</td>\n",
       "      <td>1.700000</td>\n",
       "      <td>11.00000</td>\n",
       "      <td>10.800000</td>\n",
       "      <td>3.000000</td>\n",
       "      <td>0.000000</td>\n",
       "      <td>0.000000</td>\n",
       "      <td>0.0</td>\n",
       "      <td>100.000000</td>\n",
       "      <td>120.000000</td>\n",
       "      <td>174.000000</td>\n",
       "      <td>6.000000</td>\n",
       "      <td>0.000000</td>\n",
       "      <td>148.000000</td>\n",
       "      <td>145.000000</td>\n",
       "      <td>148.000000</td>\n",
       "      <td>24.000000</td>\n",
       "      <td>1.000000</td>\n",
       "      <td>0.000000</td>\n",
       "      <td>1.000000</td>\n",
       "      <td>0.000000</td>\n",
       "      <td>0.000000</td>\n",
       "      <td>0.000000</td>\n",
       "      <td>0.000000</td>\n",
       "      <td>0.000000</td>\n",
       "      <td>0.000000</td>\n",
       "      <td>0.000000</td>\n",
       "      <td>0.000000</td>\n",
       "      <td>7.000000</td>\n",
       "      <td>1.000000</td>\n",
       "    </tr>\n",
       "    <tr>\n",
       "      <th>max</th>\n",
       "      <td>3296.000000</td>\n",
       "      <td>3599.000000</td>\n",
       "      <td>160.000000</td>\n",
       "      <td>160.000000</td>\n",
       "      <td>26.000000</td>\n",
       "      <td>564.000000</td>\n",
       "      <td>23.000000</td>\n",
       "      <td>87.000000</td>\n",
       "      <td>7.000000</td>\n",
       "      <td>91.00000</td>\n",
       "      <td>50.700000</td>\n",
       "      <td>16.000000</td>\n",
       "      <td>1.000000</td>\n",
       "      <td>4.000000</td>\n",
       "      <td>0.0</td>\n",
       "      <td>180.000000</td>\n",
       "      <td>159.000000</td>\n",
       "      <td>238.000000</td>\n",
       "      <td>18.000000</td>\n",
       "      <td>10.000000</td>\n",
       "      <td>187.000000</td>\n",
       "      <td>182.000000</td>\n",
       "      <td>186.000000</td>\n",
       "      <td>269.000000</td>\n",
       "      <td>1.000000</td>\n",
       "      <td>1.000000</td>\n",
       "      <td>1.000000</td>\n",
       "      <td>1.000000</td>\n",
       "      <td>1.000000</td>\n",
       "      <td>1.000000</td>\n",
       "      <td>1.000000</td>\n",
       "      <td>1.000000</td>\n",
       "      <td>1.000000</td>\n",
       "      <td>1.000000</td>\n",
       "      <td>1.000000</td>\n",
       "      <td>10.000000</td>\n",
       "      <td>3.000000</td>\n",
       "    </tr>\n",
       "  </tbody>\n",
       "</table>\n",
       "</div>"
      ],
      "text/plain": [
       "                 b            e          LBE           LB           AC  \\\n",
       "count  2126.000000  2126.000000  2126.000000  2126.000000  2126.000000   \n",
       "mean    878.439793  1702.877234   133.303857   133.303857     2.722484   \n",
       "std     894.084748   930.919143     9.840844     9.840844     3.560850   \n",
       "min       0.000000   287.000000   106.000000   106.000000     0.000000   \n",
       "25%      55.000000  1009.000000   126.000000   126.000000     0.000000   \n",
       "50%     538.000000  1241.000000   133.000000   133.000000     1.000000   \n",
       "75%    1521.000000  2434.750000   140.000000   140.000000     4.000000   \n",
       "max    3296.000000  3599.000000   160.000000   160.000000    26.000000   \n",
       "\n",
       "                FM           UC         ASTV         MSTV        ALTV  \\\n",
       "count  2126.000000  2126.000000  2126.000000  2126.000000  2126.00000   \n",
       "mean      7.241298     3.659925    46.990122     1.332785     9.84666   \n",
       "std      37.125309     2.847094    17.192814     0.883241    18.39688   \n",
       "min       0.000000     0.000000    12.000000     0.200000     0.00000   \n",
       "25%       0.000000     1.000000    32.000000     0.700000     0.00000   \n",
       "50%       0.000000     3.000000    49.000000     1.200000     0.00000   \n",
       "75%       2.000000     5.000000    61.000000     1.700000    11.00000   \n",
       "max     564.000000    23.000000    87.000000     7.000000    91.00000   \n",
       "\n",
       "              MLTV           DL           DS           DP      DR  \\\n",
       "count  2126.000000  2126.000000  2126.000000  2126.000000  2126.0   \n",
       "mean      8.187629     1.570085     0.003293     0.126058     0.0   \n",
       "std       5.628247     2.499229     0.057300     0.464361     0.0   \n",
       "min       0.000000     0.000000     0.000000     0.000000     0.0   \n",
       "25%       4.600000     0.000000     0.000000     0.000000     0.0   \n",
       "50%       7.400000     0.000000     0.000000     0.000000     0.0   \n",
       "75%      10.800000     3.000000     0.000000     0.000000     0.0   \n",
       "max      50.700000    16.000000     1.000000     4.000000     0.0   \n",
       "\n",
       "             Width          Min          Max         Nmax       Nzeros  \\\n",
       "count  2126.000000  2126.000000  2126.000000  2126.000000  2126.000000   \n",
       "mean     70.445908    93.579492   164.025400     4.068203     0.323612   \n",
       "std      38.955693    29.560212    17.944183     2.949386     0.706059   \n",
       "min       3.000000    50.000000   122.000000     0.000000     0.000000   \n",
       "25%      37.000000    67.000000   152.000000     2.000000     0.000000   \n",
       "50%      67.500000    93.000000   162.000000     3.000000     0.000000   \n",
       "75%     100.000000   120.000000   174.000000     6.000000     0.000000   \n",
       "max     180.000000   159.000000   238.000000    18.000000    10.000000   \n",
       "\n",
       "              Mode         Mean       Median     Variance     Tendency  \\\n",
       "count  2126.000000  2126.000000  2126.000000  2126.000000  2126.000000   \n",
       "mean    137.452023   134.610536   138.090310    18.808090     0.320320   \n",
       "std      16.381289    15.593596    14.466589    28.977636     0.610829   \n",
       "min      60.000000    73.000000    77.000000     0.000000    -1.000000   \n",
       "25%     129.000000   125.000000   129.000000     2.000000     0.000000   \n",
       "50%     139.000000   136.000000   139.000000     7.000000     0.000000   \n",
       "75%     148.000000   145.000000   148.000000    24.000000     1.000000   \n",
       "max     187.000000   182.000000   186.000000   269.000000     1.000000   \n",
       "\n",
       "                 A            B            C            D            E  \\\n",
       "count  2126.000000  2126.000000  2126.000000  2126.000000  2126.000000   \n",
       "mean      0.180621     0.272342     0.024929     0.038100     0.033866   \n",
       "std       0.384794     0.445270     0.155947     0.191482     0.180928   \n",
       "min       0.000000     0.000000     0.000000     0.000000     0.000000   \n",
       "25%       0.000000     0.000000     0.000000     0.000000     0.000000   \n",
       "50%       0.000000     0.000000     0.000000     0.000000     0.000000   \n",
       "75%       0.000000     1.000000     0.000000     0.000000     0.000000   \n",
       "max       1.000000     1.000000     1.000000     1.000000     1.000000   \n",
       "\n",
       "                AD           DE           LD           FS         SUSP  \\\n",
       "count  2126.000000  2126.000000  2126.000000  2126.000000  2126.000000   \n",
       "mean      0.156162     0.118532     0.050329     0.032455     0.092662   \n",
       "std       0.363094     0.323314     0.218675     0.177248     0.290027   \n",
       "min       0.000000     0.000000     0.000000     0.000000     0.000000   \n",
       "25%       0.000000     0.000000     0.000000     0.000000     0.000000   \n",
       "50%       0.000000     0.000000     0.000000     0.000000     0.000000   \n",
       "75%       0.000000     0.000000     0.000000     0.000000     0.000000   \n",
       "max       1.000000     1.000000     1.000000     1.000000     1.000000   \n",
       "\n",
       "             CLASS          NSP  \n",
       "count  2126.000000  2126.000000  \n",
       "mean      4.509878     1.304327  \n",
       "std       3.026883     0.614377  \n",
       "min       1.000000     1.000000  \n",
       "25%       2.000000     1.000000  \n",
       "50%       4.000000     1.000000  \n",
       "75%       7.000000     1.000000  \n",
       "max      10.000000     3.000000  "
      ]
     },
     "metadata": {},
     "output_type": "display_data"
    }
   ],
   "source": [
    "raw_data.describe()"
   ]
  }
 ],
 "metadata": {
  "interpreter": {
   "hash": "d945a4ff71f07307950fda08398aacc03d9c1d10eb9aad6ef4af91767460bd95"
  },
  "kernelspec": {
   "display_name": "Python 3.10.0a6 64-bit ('.venv': poetry)",
   "name": "python3"
  },
  "language_info": {
   "codemirror_mode": {
    "name": "ipython",
    "version": 3
   },
   "file_extension": ".py",
   "mimetype": "text/x-python",
   "name": "python",
   "nbconvert_exporter": "python",
   "pygments_lexer": "ipython3",
   "version": "3.9.1"
  },
  "orig_nbformat": 4
 },
 "nbformat": 4,
 "nbformat_minor": 2
}
