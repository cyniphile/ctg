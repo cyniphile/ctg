{
 "cells": [
  {
   "cell_type": "code",
   "execution_count": 1,
   "metadata": {},
   "outputs": [],
   "source": [
    "import pandas as pd\n",
    "import jax.numpy as jnp\n",
    "import numpy as np\n",
    "import pandas as pd\n",
    "from kappa_loss_perceptron import KappaLossPerceptron"
   ]
  },
  {
   "cell_type": "markdown",
   "metadata": {},
   "source": [
    "- move to colab for gpu support?"
   ]
  },
  {
   "cell_type": "code",
   "execution_count": 2,
   "metadata": {},
   "outputs": [],
   "source": [
    "df = pd.read_csv(\"./data/preprocessed_data.csv\", index_col=0)\n",
    "\n",
    "TARGET = \"NSP\"\n",
    "FEATURES = df.columns.drop(TARGET)\n",
    "\n",
    "# Reserve a \"final final\" test set\n",
    "Xdf = df[FEATURES]\n",
    "ydf = df[TARGET]\n",
    "NUM_CLASSES = 3"
   ]
  },
  {
   "cell_type": "code",
   "execution_count": 3,
   "metadata": {},
   "outputs": [
    {
     "name": "stderr",
     "output_type": "stream",
     "text": [
      "WARNING:absl:No GPU/TPU found, falling back to CPU. (Set TF_CPP_MIN_LOG_LEVEL=0 and rerun for more info.)\n"
     ]
    }
   ],
   "source": [
    "X = Xdf.values\n",
    "y = ydf.values\n",
    "\n",
    "# Penalties for different types of class confusion\n",
    "weights = np.array([\n",
    "# Predicted   N    S    P     # True\n",
    "            [0.0, 0.5, 0.6],  # N\n",
    "            [1.0, 0.0, 0.3],  # S\n",
    "            [2.0, 0.6, 0.0]   # P\n",
    "])\n",
    "klp = KappaLossPerceptron(num_classes=NUM_CLASSES, weight_matrix=weights)"
   ]
  },
  {
   "cell_type": "code",
   "execution_count": 7,
   "metadata": {},
   "outputs": [
    {
     "name": "stderr",
     "output_type": "stream",
     "text": [
      "2021-12-08 15:56:32.509510: E external/org_tensorflow/tensorflow/compiler/xla/service/slow_operation_alarm.cc:55] \n",
      "********************************\n",
      "Very slow compile?  If you want to file a bug, run with envvar XLA_FLAGS=--xla_dump_to=/tmp/foo and attach the results.\n",
      "Compiling module jit_loss__1.104432\n",
      "********************************\n"
     ]
    }
   ],
   "source": [
    "klp.fit(X, y, epochs=20, clean=False)\n",
    "y_hat = klp.predict(X)"
   ]
  },
  {
   "cell_type": "code",
   "execution_count": 6,
   "metadata": {},
   "outputs": [
    {
     "data": {
      "text/plain": [
       "<AxesSubplot:>"
      ]
     },
     "execution_count": 6,
     "metadata": {},
     "output_type": "execute_result"
    },
    {
     "data": {
      "image/png": "[encoded data removed]",
      "text/plain": [
       "<Figure size 432x288 with 1 Axes>"
      ]
     },
     "metadata": {},
     "output_type": "display_data"
    }
   ],
   "source": [
    "pd.Series(y).hist() \n",
    "pd.Series(y_hat).hist() "
   ]
  }
 ],
 "metadata": {
  "interpreter": {
   "hash": "d945a4ff71f07307950fda08398aacc03d9c1d10eb9aad6ef4af91767460bd95"
  },
  "kernelspec": {
   "display_name": "Python 3.9.1 64-bit ('.venv': poetry)",
   "language": "python",
   "name": "python3"
  },
  "language_info": {
   "codemirror_mode": {
    "name": "ipython",
    "version": 3
   },
   "file_extension": ".py",
   "mimetype": "text/x-python",
   "name": "python",
   "nbconvert_exporter": "python",
   "pygments_lexer": "ipython3",
   "version": "3.9.1"
  },
  "orig_nbformat": 4
 },
 "nbformat": 4,
 "nbformat_minor": 2
}
