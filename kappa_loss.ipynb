{
 "cells": [
  {
   "cell_type": "code",
   "execution_count": 3,
   "metadata": {},
   "outputs": [],
   "source": [
    "from jax import grad, jit\n",
    "from jax.nn import softmax\n",
    "from jax.nn.initializers import glorot_uniform\n",
    "import jax.random\n",
    "import pandas as pd\n",
    "from skll.metrics import kappa as skll_kappa\n",
    "from sklearn.metrics import confusion_matrix as sk_confusion_matrix\n",
    "from numpy.testing import assert_almost_equal\n",
    "import optax\n",
    "import jax.numpy as jnp\n",
    "import numpy as np\n",
    "import pandas as pd"
   ]
  },
  {
   "cell_type": "code",
   "execution_count": 3,
   "metadata": {},
   "outputs": [],
   "source": [
    "df = pd.read_csv(\"./data/preprocessed_data.csv\", index_col=0)\n",
    "\n",
    "TARGET = \"NSP\"\n",
    "FEATURES = df.columns.drop(TARGET)\n",
    "\n",
    "# Reserve a \"final final\" test set\n",
    "Xdf = df[FEATURES]\n",
    "ydf = df[TARGET]\n",
    "NUM_CLASSES = 3\n",
    "test_weights = np.array([\n",
    "# Predicted   N    S    P     # True\n",
    "            [0.0, 1.0, 1.0],  # N\n",
    "            [1.0, 0.0, 1.0],  # S\n",
    "            [1.0, 1.0, 1.0]   # P\n",
    "])"
   ]
  },
  {
   "cell_type": "code",
   "execution_count": 9,
   "metadata": {},
   "outputs": [
    {
     "name": "stdout",
     "output_type": "stream",
     "text": [
      "nr Traced<ShapedArray(float32[])>with<JVPTrace(level=2/1)> with\n",
      "  primal = Traced<ShapedArray(float32[])>with<DynamicJaxprTrace(level=0/1)>\n",
      "  tangent = Traced<ShapedArray(float32[])>with<JaxprTrace(level=1/1)> with\n",
      "    pval = (ShapedArray(float32[]), Traced<AbstractUnit()>with<DynamicJaxprTrace(level=0/1)>)\n",
      "    recipe = JaxprEqnRecipe(eqn_id=<object object at 0x139416260>, invars=(Traced<ShapedArray(float32[]):JaxprTrace(level=1/1)>,), outvars=[<weakref at 0x139423630; to 'JaxprTracer' at 0x139423270>], primitive=xla_call, params={'device': None, 'backend': None, 'name': 'jvp(fn)', 'donated_invars': (False,), 'inline': True, 'call_jaxpr': { lambda ; a:f32[]. let  in (a,) }}, source_info=<jaxlib.xla_extension.Traceback object at 0x13941eaf0>)\n"
     ]
    },
    {
     "name": "stderr",
     "output_type": "stream",
     "text": [
      "2021-12-07 15:35:40.707629: E external/org_tensorflow/tensorflow/compiler/xla/service/slow_operation_alarm.cc:55] \n",
      "********************************\n",
      "Very slow compile?  If you want to file a bug, run with envvar XLA_FLAGS=--xla_dump_to=/tmp/foo and attach the results.\n",
      "Compiling module jit__lambda___5.108820\n",
      "********************************\n"
     ]
    },
    {
     "name": "stdout",
     "output_type": "stream",
     "text": [
      "0\n",
      "1\n",
      "2\n",
      "3\n",
      "4\n",
      "5\n",
      "6\n",
      "7\n",
      "8\n",
      "9\n",
      "10\n",
      "11\n",
      "12\n",
      "13\n",
      "14\n",
      "15\n",
      "16\n",
      "17\n",
      "18\n",
      "19\n",
      "20\n",
      "21\n",
      "22\n",
      "23\n",
      "24\n",
      "25\n",
      "26\n",
      "27\n",
      "28\n",
      "29\n",
      "30\n",
      "31\n",
      "32\n",
      "33\n",
      "34\n",
      "35\n",
      "36\n",
      "37\n",
      "38\n",
      "39\n",
      "40\n",
      "41\n",
      "42\n",
      "43\n",
      "44\n",
      "45\n",
      "46\n",
      "47\n",
      "48\n",
      "49\n"
     ]
    }
   ],
   "source": [
    "X_params = Xdf.values\n",
    "y_params = ydf.values\n",
    "\n",
    "def sigmoid(v):\n",
    "    return 1 / jnp.e**-(v)\n",
    "\n",
    "def logit_layer(X, W):\n",
    "    v = X @ W\n",
    "    return sigmoid(v)\n",
    "\n",
    "def softmax_layer(X, W):\n",
    "    v = X @ W \n",
    "    return softmax(v, axis=1)\n",
    "\n",
    "def rmse_loss(X, W, y, fn):\n",
    "    y_hat = fn(X, W)\n",
    "    return jnp.sqrt(sum((y-y_hat)**2) / len(y))\n",
    "\n",
    "# Penalties for different types of class confusion\n",
    "weights = np.array([\n",
    "# Predicted   N    S    P     # True\n",
    "            [0.0, 0.5, 0.6],  # N\n",
    "            [1.0, 0.0, 0.3],  # S\n",
    "            [2.0, 0.6, 0.0]   # P\n",
    "])\n",
    "\n"
   ]
  },
  {
   "cell_type": "code",
   "execution_count": 7,
   "metadata": {},
   "outputs": [
    {
     "data": {
      "text/plain": [
       "DeviceArray([[0., 1., 0.],\n",
       "             [0., 1., 0.],\n",
       "             [1., 0., 0.],\n",
       "             [1., 0., 0.],\n",
       "             [0., 1., 0.],\n",
       "             [1., 0., 0.]], dtype=float32)"
      ]
     },
     "execution_count": 7,
     "metadata": {},
     "output_type": "execute_result"
    }
   ],
   "source": [
    "jnp.round(jnp.array(\n",
    "    [\n",
    "        [0.1, 0.9, 0],\n",
    "        [0, 1, 0],\n",
    "        [1, 0, 0],\n",
    "        [1, 0, 0],\n",
    "        [0, 1, 0],\n",
    "        [1, 0, 0],\n",
    "    ]\n",
    "))\n"
   ]
  },
  {
   "cell_type": "code",
   "execution_count": 10,
   "metadata": {},
   "outputs": [
    {
     "data": {
      "text/plain": [
       "<AxesSubplot:>"
      ]
     },
     "execution_count": 10,
     "metadata": {},
     "output_type": "execute_result"
    },
    {
     "data": {
      "image/png": "[encoded data removed]",
      "text/plain": [
       "<Figure size 432x288 with 1 Axes>"
      ]
     },
     "metadata": {},
     "output_type": "display_data"
    }
   ],
   "source": [
    "pd.Series(y_params).hist() \n",
    "# pd.Series(jnp.argmax(softmax_layer(X_params, params), axis=1)).hist() "
   ]
  },
  {
   "cell_type": "markdown",
   "metadata": {},
   "source": [
    "- move to colab for gpu support?"
   ]
  }
 ],
 "metadata": {
  "interpreter": {
   "hash": "d945a4ff71f07307950fda08398aacc03d9c1d10eb9aad6ef4af91767460bd95"
  },
  "kernelspec": {
   "display_name": "Python 3.9.1 64-bit ('.venv': poetry)",
   "language": "python",
   "name": "python3"
  },
  "language_info": {
   "codemirror_mode": {
    "name": "ipython",
    "version": 3
   },
   "file_extension": ".py",
   "mimetype": "text/x-python",
   "name": "python",
   "nbconvert_exporter": "python",
   "pygments_lexer": "ipython3",
   "version": "3.9.1"
  },
  "orig_nbformat": 4
 },
 "nbformat": 4,
 "nbformat_minor": 2
}
